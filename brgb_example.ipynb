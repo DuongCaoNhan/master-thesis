{
 "cells": [
  {
   "cell_type": "code",
   "execution_count": 15,
   "metadata": {
    "collapsed": false
   },
   "outputs": [
    {
     "name": "stdout",
     "output_type": "stream",
     "text": [
      "  Dataset        Algorithm  Accuracy       AUC  Log-Loss Training Time\n",
      "1     car       BoostedRgb 0.9787234 0.9976123 0.3932066         1.590\n",
      "2     car GradientBoosting 0.9574468 0.9957008 0.1513304         1.045\n",
      "3     car     RandomForest 0.8742747 0.9834811 0.3364408         0.305\n"
     ]
    }
   ],
   "source": [
    "### Load packages\n",
    "library('gbm')          # Gradient Boosting Machine\n",
    "library('randomForest') # Random Forest\n",
    "library('parallel')\n",
    "library('caret')\n",
    "\n",
    "### Load Boosted-RGB methods\n",
    "source('./experiments/covariance/R/covFunctions.R')\n",
    "source('./experiments/classification/R/rgbFunctions.R')\n",
    "source('./experiments/classification/R/utilityFunctions.R')\n",
    "\n",
    "### Instantiate cluster\n",
    "cl <- parallel::makeCluster(4, type=\"SOCK\") # Train BRGB using 4 cores\n",
    "parallel::clusterExport(cl, ls())\n",
    "\n",
    "### Choose dataset\n",
    "load('./experiments/classification/data/data_car.RData')\n",
    "\n",
    "### Split data\n",
    "train.idx <- caret::createDataPartition(y, p = 0.7, list = FALSE)\n",
    "x.tr <- x[train.idx,]\n",
    "x.te <- x[-train.idx,]\n",
    "y.tr <- y[train.idx]\n",
    "y.te <- y[-train.idx]\n",
    "\n",
    "### Train classifiers\n",
    "brgb.model <- trainClassifier('BoostedRgb', x.tr, y.tr)\n",
    "gbm.model  <- trainClassifier('GradientBoosting', x.tr, y.tr)\n",
    "rf.model   <- trainClassifier('RandomForest', x.tr, y.tr)\n",
    "\n",
    "### Test classifiers\n",
    "brgb.resp <- testClassifier(brgb.model, x.te, y.te, 'car')\n",
    "gbm.resp  <- testClassifier(gbm.model, x.te, y.te, 'car')\n",
    "rf.resp   <- testClassifier(rf.model, x.te, y.te, 'car')\n",
    "\n",
    "### Merge results\n",
    "results <- do.call('rbind.data.frame', list(brgb.resp, gbm.resp, rf.resp))\n",
    "rownames(results) <- NULL\n",
    "colnames(results) <- c('Dataset', 'Algorithm', 'Accuracy', 'AUC', 'Log-Loss', 'Training Time')\n",
    "print(results)\n",
    "\n",
    "### Close cluster\n",
    "parallel::stopCluster(cl)"
   ]
  }
 ],
 "metadata": {
  "kernelspec": {
   "display_name": "R",
   "language": "R",
   "name": "ir"
  },
  "language_info": {
   "codemirror_mode": "r",
   "file_extension": ".r",
   "mimetype": "text/x-r-source",
   "name": "R",
   "pygments_lexer": "r",
   "version": "3.2.2"
  }
 },
 "nbformat": 4,
 "nbformat_minor": 0
}
